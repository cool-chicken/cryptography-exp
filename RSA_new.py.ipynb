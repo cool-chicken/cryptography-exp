{
 "cells": [
  {
   "cell_type": "markdown",
   "id": "eec92944f02b4011",
   "metadata": {},
   "source": [
    "我们需要批量读取文件，并且分析每个帧内1024bit模数N | 1024bit加密指数e | 1024bit密文$m^{e}$ mod N是否存在相互关系"
   ]
  },
  {
   "cell_type": "code",
   "execution_count": 3,
   "id": "cd98759d153472ee",
   "metadata": {
    "ExecuteTime": {
     "end_time": "2024-11-25T08:01:36.674243Z",
     "start_time": "2024-11-25T08:01:36.635608Z"
    }
   },
   "outputs": [],
   "source": [
    "import os\n",
    "from pyexpat.errors import messages\n",
    "\n",
    "import gmpy2"
   ]
  },
  {
   "cell_type": "markdown",
   "id": "314850b6a469ac19",
   "metadata": {},
   "source": [
    "首先我们设置4个列表，分别存储N，e，c，m"
   ]
  },
  {
   "cell_type": "code",
   "execution_count": 4,
   "id": "initial_id",
   "metadata": {
    "ExecuteTime": {
     "end_time": "2024-11-25T08:01:36.685490Z",
     "start_time": "2024-11-25T08:01:36.680427Z"
    },
    "collapsed": true
   },
   "outputs": [],
   "source": [
    "n_list = {}\n",
    "e_list = {}\n",
    "c_list = {}\n",
    "m_list = {}\n"
   ]
  },
  {
   "cell_type": "markdown",
   "id": "4a41e3dfdcc050c",
   "metadata": {},
   "source": [
    "其次我们需要读取文件，然后分析每个帧内的N，e，c，m"
   ]
  },
  {
   "cell_type": "code",
   "execution_count": 5,
   "id": "e6e81793d81f0e17",
   "metadata": {
    "ExecuteTime": {
     "end_time": "2024-11-25T08:01:36.705285Z",
     "start_time": "2024-11-25T08:01:36.701470Z"
    }
   },
   "outputs": [],
   "source": [
    "def read_file():\n",
    "    for i in range(21):\n",
    "        filename = f'Frame{i}'\n",
    "        with open(filename, 'r') as f:\n",
    "            n = int(f.read(256).strip(), 16)\n",
    "            n_list[i] = n\n",
    "            e = int(f.read(256).strip(), 16)\n",
    "            e_list[i] = e\n",
    "            c = int(f.read(256).strip(), 16)\n",
    "            c_list[i] = c"
   ]
  },
  {
   "cell_type": "markdown",
   "id": "cf21c8e2155dacb8",
   "metadata": {},
   "source": [
    "分析是否有相同的参数e和N"
   ]
  },
  {
   "cell_type": "code",
   "execution_count": 18,
   "id": "e2c8e44af206bc74",
   "metadata": {
    "ExecuteTime": {
     "end_time": "2024-11-25T08:01:36.737343Z",
     "start_time": "2024-11-25T08:01:36.721333Z"
    }
   },
   "outputs": [
    {
     "name": "stdout",
     "output_type": "stream",
     "text": [
      "e0:46786465362686334917265996843779843233606992585424976481745055335468678697948774988450305612127967926533923268260412557000125153569622340353246096040604284883505587337829322949633637609180797447754513992039018904786537115087888005528547900640339270052628915440787357271345416818313808448127098885767015748889\n",
      "e1:65537\n",
      "e2:65537\n",
      "e3:5\n",
      "e4:152206992575706893484835984472544529509325440944131662631741403414037956695665533186650071476146389737020554215956181827422540843366433981607643940546405002217220286072880967331118344806315756304650248634546597784597963886656422706197757265316981889118026978865295597135470735576032282694348773714479076093197\n",
      "e5:65537\n",
      "e6:65537\n",
      "e7:3\n",
      "e8:5\n",
      "e9:65537\n",
      "e10:65537\n",
      "e11:3\n",
      "e12:5\n",
      "e13:65537\n",
      "e14:65537\n",
      "e15:3\n",
      "e16:5\n",
      "e17:65537\n",
      "e18:65537\n",
      "e19:65537\n",
      "e20:5\n",
      "n0 = n4 = 90058705186558569935261948496132914380077312570281980020033760044382510933070450931241348678652103772768114420567119848142360867111065753301402088676701668212035175754850951897103338079978959810673297215370534716084813732883918187890434411552463739669878295417744080700424913250020348487161014643951785502867\n"
     ]
    }
   ],
   "source": [
    "if __name__ == \"__main__\":\n",
    "    read_file()\n",
    "    # 输出e\n",
    "    for i, e_1 in e_list.items():\n",
    "        print(f'e{i}:{e_1}'.format(i, e_1))\n",
    "    # 输出相同的n\n",
    "    for i, n_1 in n_list.items():\n",
    "        for j, n_2 in n_list.items():\n",
    "            if i < j and n_1 == n_2:\n",
    "                print(f'n{i} = n{j} = {n_1}'.format(i, j, n_1))"
   ]
  },
  {
   "cell_type": "markdown",
   "id": "79ea86281fe313ec",
   "metadata": {},
   "source": [
    "我们发现第0帧和第4帧的n值相同并且e是互素的，根据题目所知，Alice初步发送的时候会重复发送相同明文分片。接下来我们假设他们加密的是相同的密文。"
   ]
  },
  {
   "cell_type": "code",
   "execution_count": 19,
   "id": "c5f387681c0eec",
   "metadata": {
    "ExecuteTime": {
     "end_time": "2024-11-25T08:01:36.810617Z",
     "start_time": "2024-11-25T08:01:36.804923Z"
    }
   },
   "outputs": [
    {
     "name": "stdout",
     "output_type": "stream",
     "text": [
      "0和4的明文是：My secre\n"
     ]
    }
   ],
   "source": [
    "def same_N(c1, c2, e1, e2, n):\n",
    "    g, s, t = gmpy2.gcdext(e1, e2)\n",
    "    if g != 1:\n",
    "        return None\n",
    "    m = gmpy2.powmod(c1,s,n) * gmpy2.powmod(c2,t,n) % n\n",
    "    return m\n",
    "m = same_N(c_list[0], c_list[4], e_list[0], e_list[4], n_list[0])\n",
    "byte = bytes.fromhex(hex(m)[-16:]).decode('utf-8')\n",
    "print(f'0和4的明文是：{byte}')\n",
    "m_list[0] = m_list[4] = byte"
   ]
  },
  {
   "cell_type": "markdown",
   "id": "3bf048f16ff01d5e",
   "metadata": {},
   "source": [
    "然后我们发现第3，8，12，16，20帧的e均为5相对较小，根据题目所知，Alice初步发送的时候会重复发送相同明文分片。接下来我们假设他们加密的是相同的密文。"
   ]
  },
  {
   "cell_type": "code",
   "execution_count": 20,
   "id": "24a8ad7e2f0bcdd2",
   "metadata": {
    "ExecuteTime": {
     "end_time": "2024-11-25T08:01:36.954495Z",
     "start_time": "2024-11-25T08:01:36.945817Z"
    }
   },
   "outputs": [],
   "source": [
    "def crt(a,m):\n",
    "    M = 1\n",
    "    for i in m:\n",
    "        M *= i\n",
    "    Mi = [M//i for i in m]\n",
    "    Mi_ = [gmpy2.invert(M//i, i) for i in m]\n",
    "    x = 0\n",
    "    for i in range(len(m)):\n",
    "        x += a[i]*Mi[i]*Mi_[i]\n",
    "    return x % M"
   ]
  },
  {
   "cell_type": "markdown",
   "id": "44bd1b7e1a34cee5",
   "metadata": {},
   "source": [
    "根据中国剩余定理，我们可以解出密文m，再对答案求5次方根得到明文"
   ]
  },
  {
   "cell_type": "code",
   "execution_count": 21,
   "id": "83c63887dd605b79",
   "metadata": {
    "ExecuteTime": {
     "end_time": "2024-11-25T08:01:36.972058Z",
     "start_time": "2024-11-25T08:01:36.967704Z"
    }
   },
   "outputs": [
    {
     "name": "stdout",
     "output_type": "stream",
     "text": [
      "3，8，12，16，20的明文是：t is a f\n"
     ]
    }
   ],
   "source": [
    "c5_list = [c_list[3], c_list[8], c_list[12], c_list[16], c_list[20]]\n",
    "n5_list = [n_list[3], n_list[8], n_list[12], n_list[16], n_list[20]]\n",
    "m = crt(c5_list, n5_list)\n",
    "m = gmpy2.iroot(m, 5)[0]\n",
    "byte = bytes.fromhex(hex(m)[-16:]).decode('utf-8')\n",
    "print(f'3，8，12，16，20的明文是：{byte}')\n",
    "for i in [3, 8, 12, 16, 20]:\n",
    "    m_list[i] = byte"
   ]
  },
  {
   "cell_type": "markdown",
   "id": "889a31efed331d26",
   "metadata": {},
   "source": [
    "接下来我们来探寻N里面是否有不相同且不互素的情况，这样就能够求出相应的大素数p和q。"
   ]
  },
  {
   "cell_type": "code",
   "execution_count": 22,
   "id": "b4be9f76853f8a4e",
   "metadata": {
    "ExecuteTime": {
     "end_time": "2024-11-25T08:01:37.099701Z",
     "start_time": "2024-11-25T08:01:37.094821Z"
    }
   },
   "outputs": [
    {
     "name": "stdout",
     "output_type": "stream",
     "text": [
      "n1和n18不相同且不互素\n"
     ]
    }
   ],
   "source": [
    "for i, n_1 in n_list.items():\n",
    "    for j, n_2 in n_list.items():\n",
    "        if i < j and gmpy2.gcd(n_1, n_2) != 1 and n_1 != n_2:\n",
    "            print(f'n{i}和n{j}不相同且不互素')"
   ]
  },
  {
   "cell_type": "markdown",
   "id": "5e398f8ce165eb2e",
   "metadata": {},
   "source": [
    "考虑到n1和n18不互素，这样就能够求出相应的大素数p和q然后计算出d1和d18私钥进行解密"
   ]
  },
  {
   "cell_type": "code",
   "execution_count": 11,
   "id": "a14dc06b2f80cbe8",
   "metadata": {
    "ExecuteTime": {
     "end_time": "2024-11-25T08:01:37.172184Z",
     "start_time": "2024-11-25T08:01:37.159773Z"
    }
   },
   "outputs": [],
   "source": [
    "def decrypt(c1, c2, e1, e2, n1, n2):\n",
    "    p = gmpy2.gcd(n1, n2)\n",
    "    q1 = n1 // p\n",
    "    q2 = n2 // p\n",
    "    d1 = gmpy2.invert(e1, (p-1)*(q1-1))\n",
    "    d2 = gmpy2.invert(e2, (p-1)*(q2-1))\n",
    "    m1 = gmpy2.powmod(c1, d1, n1)\n",
    "    m2 = gmpy2.powmod(c2, d2, n2)\n",
    "    return m1, m2"
   ]
  },
  {
   "cell_type": "markdown",
   "id": "5188ef6d11dfe618",
   "metadata": {},
   "source": [
    "以上函数编写的是解密函数，接下来我们调用函数进行解密"
   ]
  },
  {
   "cell_type": "code",
   "execution_count": 12,
   "id": "c5879bb96dfe7ef4",
   "metadata": {
    "ExecuteTime": {
     "end_time": "2024-11-25T08:01:37.186668Z",
     "start_time": "2024-11-25T08:01:37.180884Z"
    }
   },
   "outputs": [
    {
     "name": "stdout",
     "output_type": "stream",
     "text": [
      "1的明文是：. Imagin\n",
      "18的明文是：m A to B\n"
     ]
    }
   ],
   "source": [
    "m1, m18 = decrypt(c_list[1], c_list[18], e_list[1], e_list[18], n_list[1], n_list[18])\n",
    "byte1 = bytes.fromhex(hex(m1)[-16:]).decode('utf-8')\n",
    "byte18 = bytes.fromhex(hex(m18)[-16:]).decode('utf-8')\n",
    "print(f'1的明文是：{byte1}')\n",
    "print(f'18的明文是：{byte18}')\n",
    "m_list[1] = byte1\n",
    "m_list[18] = byte18"
   ]
  },
  {
   "cell_type": "code",
   "execution_count": 13,
   "id": "115574fa053b88f9",
   "metadata": {
    "ExecuteTime": {
     "end_time": "2024-11-25T08:01:37.244372Z",
     "start_time": "2024-11-25T08:01:37.238592Z"
    }
   },
   "outputs": [
    {
     "name": "stdout",
     "output_type": "stream",
     "text": [
      "明文0:My secre\n",
      "明文4:My secre\n",
      "明文3:t is a f\n",
      "明文8:t is a f\n",
      "明文12:t is a f\n",
      "明文16:t is a f\n",
      "明文20:t is a f\n",
      "明文1:. Imagin\n",
      "明文18:m A to B\n"
     ]
    }
   ],
   "source": [
    "for i, byte in m_list.items():\n",
    "    print(f'明文{i}:{byte}'.format(i, byte))"
   ]
  },
  {
   "cell_type": "markdown",
   "id": "f13d22b212527f2d",
   "metadata": {},
   "source": [
    "对于帧10和帧14我们可以运用费马分解来分解大整数N得到素数p和q，然后计算出私钥d进行解密"
   ]
  },
  {
   "cell_type": "code",
   "execution_count": 14,
   "id": "3fd3aeeead2e20f7",
   "metadata": {
    "ExecuteTime": {
     "end_time": "2024-11-25T08:01:37.293846Z",
     "start_time": "2024-11-25T08:01:37.291333Z"
    }
   },
   "outputs": [],
   "source": [
    "def fermat(n):  # 费马分解n为p、q\n",
    "    a = gmpy2.isqrt(n)+1\n",
    "    while True:\n",
    "        b = gmpy2.isqrt(a * a - n)\n",
    "        if n == (a + b) * (a - b):\n",
    "            return a + b, a - b\n",
    "        a += 1"
   ]
  },
  {
   "cell_type": "code",
   "execution_count": 15,
   "id": "242331a08b534cdf",
   "metadata": {
    "ExecuteTime": {
     "end_time": "2024-11-25T08:02:04.431450Z",
     "start_time": "2024-11-25T08:01:37.306995Z"
    }
   },
   "outputs": [
    {
     "name": "stdout",
     "output_type": "stream",
     "text": [
      "10的明文是：will get\n",
      "14的明文是： you fro\n"
     ]
    }
   ],
   "source": [
    "for i in [10,14]:\n",
    "    p, q = fermat(n_list[i])\n",
    "    d = gmpy2.invert(e_list[i], (p - 1) * (q - 1))\n",
    "    m = gmpy2.powmod(c_list[i], d, n_list[i])\n",
    "    byte = bytes.fromhex(hex(m)[-16:]).decode('utf-8')\n",
    "    print(f'{i}的明文是：{byte}')\n",
    "    m_list[i] = byte"
   ]
  },
  {
   "cell_type": "markdown",
   "id": "141a705cf1b9d24b",
   "metadata": {},
   "source": [
    "对于帧2,6,19可以利用pollard_rho算法进行分解大整数N得到素数p和q，然后计算出私钥d进行解密"
   ]
  },
  {
   "cell_type": "code",
   "execution_count": 16,
   "id": "9bcbeff914053eba",
   "metadata": {
    "ExecuteTime": {
     "end_time": "2024-11-25T08:02:04.450174Z",
     "start_time": "2024-11-25T08:02:04.447962Z"
    }
   },
   "outputs": [],
   "source": [
    "def pollard_rho(n):\n",
    "    x = 2\n",
    "    for i in range(2, 1000000):\n",
    "        x = pow(x, i, n)\n",
    "        y = gmpy2.gcd(x-1, n)\n",
    "        if y != 1 and y != n:\n",
    "            return y"
   ]
  },
  {
   "cell_type": "markdown",
   "id": "cce47d4a87bee569",
   "metadata": {},
   "source": [
    "接下来我们调用函数进行解密"
   ]
  },
  {
   "cell_type": "code",
   "execution_count": 24,
   "id": "3b987f760e42d61a",
   "metadata": {
    "ExecuteTime": {
     "end_time": "2024-11-25T08:02:14.668878Z",
     "start_time": "2024-11-25T08:02:04.505384Z"
    }
   },
   "outputs": [
    {
     "name": "stdout",
     "output_type": "stream",
     "text": [
      "2的明文是： That is\n",
      "6的明文是： \"Logic \n",
      "19的明文是：instein.\n"
     ]
    }
   ],
   "source": [
    "for i in [2, 6, 19]:\n",
    "    p = pollard_rho(n_list[i])\n",
    "    q = n_list[i] // p\n",
    "    d = gmpy2.invert(e_list[i], (p - 1) * (q - 1))\n",
    "    m = gmpy2.powmod(c_list[i], d, n_list[i])\n",
    "    byte = bytes.fromhex(hex(m)[-16:]).decode('utf-8')\n",
    "    print(f'{i}的明文是：{byte}')\n",
    "    m_list[i] = byte"
   ]
  },
  {
   "cell_type": "code",
   "execution_count": 25,
   "id": "dba8b3ea0f99da2",
   "metadata": {
    "ExecuteTime": {
     "end_time": "2024-11-25T08:02:14.676320Z",
     "start_time": "2024-11-25T08:02:14.674470Z"
    }
   },
   "outputs": [
    {
     "name": "stdout",
     "output_type": "stream",
     "text": [
      "明文0:My secre\n",
      "明文4:My secre\n",
      "明文3:t is a f\n",
      "明文8:t is a f\n",
      "明文12:t is a f\n",
      "明文16:t is a f\n",
      "明文20:t is a f\n",
      "明文1:. Imagin\n",
      "明文18:m A to B\n",
      "明文10:will get\n",
      "明文14: you fro\n",
      "明文2: That is\n",
      "明文6: \"Logic \n",
      "明文19:instein.\n"
     ]
    }
   ],
   "source": [
    "for i, byte in m_list.items():\n",
    "    print(f'明文{i}:{byte}'.format(i, byte))"
   ]
  },
  {
   "cell_type": "markdown",
   "id": "ab510e4a6edeeca8",
   "metadata": {},
   "source": [
    "通过这些帧的明文我们能够猜出明文是b'My secret is a famous saying of Albert Einstein. That is \"Logic will get you from A to B. Imagination will take you everywhere.\"'"
   ]
  }
 ],
 "metadata": {
  "kernelspec": {
   "display_name": "base",
   "language": "python",
   "name": "python3"
  },
  "language_info": {
   "codemirror_mode": {
    "name": "ipython",
    "version": 3
   },
   "file_extension": ".py",
   "mimetype": "text/x-python",
   "name": "python",
   "nbconvert_exporter": "python",
   "pygments_lexer": "ipython3",
   "version": "3.11.3"
  }
 },
 "nbformat": 4,
 "nbformat_minor": 5
}
